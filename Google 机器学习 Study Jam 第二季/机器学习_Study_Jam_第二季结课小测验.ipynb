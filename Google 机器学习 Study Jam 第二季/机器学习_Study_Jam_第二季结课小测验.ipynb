{
  "nbformat": 4,
  "nbformat_minor": 0,
  "metadata": {
    "colab": {
      "name": "Copy of 机器学习 Study Jam 第二季结课小测验.ipynb",
      "provenance": []
    },
    "kernelspec": {
      "name": "python3",
      "display_name": "Python 3"
    }
  },
  "cells": [
    {
      "cell_type": "markdown",
      "metadata": {
        "id": "kbh7GG0r0lm1",
        "colab_type": "text"
      },
      "source": [
        "### Q2"
      ]
    },
    {
      "cell_type": "code",
      "metadata": {
        "id": "9b8VuOva0iHd",
        "colab_type": "code",
        "colab": {
          "base_uri": "https://localhost:8080/",
          "height": 67
        },
        "outputId": "bb8b661c-de14-4ceb-afa8-b733e1bc4171"
      },
      "source": [
        "import tensorflow as tf\n",
        "\n",
        "A = tf.constant([[1, 2], [3, 4]])\n",
        "B = tf.constant([[5, 6], [9, 10]])\n",
        "C = tf.matmul(A, B)\n",
        "\n",
        "print(C)"
      ],
      "execution_count": null,
      "outputs": [
        {
          "output_type": "stream",
          "text": [
            "tf.Tensor(\n",
            "[[23 26]\n",
            " [51 58]], shape=(2, 2), dtype=int32)\n"
          ],
          "name": "stdout"
        }
      ]
    },
    {
      "cell_type": "markdown",
      "metadata": {
        "id": "31Xl1Wro7dZe",
        "colab_type": "text"
      },
      "source": [
        "## Q3"
      ]
    },
    {
      "cell_type": "code",
      "metadata": {
        "id": "KNgeLEFG1Axe",
        "colab_type": "code",
        "colab": {
          "base_uri": "https://localhost:8080/",
          "height": 34
        },
        "outputId": "00407c0a-563d-4529-898a-8d9d4d9c31cf"
      },
      "source": [
        "import numpy as np\n",
        "\n",
        "X_raw = np.array([2013, 2014, 2015, 2016, 2017, 2018], dtype=np.float32)\n",
        "y_raw = np.array([12000, 14000, 15000, 16500, 17500, 19000], dtype=np.float32)\n",
        "\n",
        "X = (X_raw - X_raw.min()) / (X_raw.max() - X_raw.min())\n",
        "y = (y_raw - y_raw.min()) / (y_raw.max() - y_raw.min())\n",
        "X = tf.constant(X)\n",
        "y = tf.constant(y)\n",
        "\n",
        "a = tf.Variable(initial_value=0.)\n",
        "b = tf.Variable(initial_value=0.)\n",
        "variables = [a, b]\n",
        "\n",
        "num_epoch = 10000\n",
        "optimizer = tf.keras.optimizers.SGD(learning_rate=5e-4)\n",
        "for e in range(num_epoch):\n",
        "    # 使用tf.GradientTape()记录损失函数的梯度信息\n",
        "    with tf.GradientTape() as tape:\n",
        "        y_pred = a * X + b\n",
        "        loss = tf.reduce_sum(tf.square(y_pred - y))\n",
        "    # TensorFlow自动计算损失函数关于自变量（模型参数）的梯度\n",
        "    grads = tape.gradient(loss, variables)\n",
        "    # TensorFlow自动根据梯度更新参数\n",
        "    optimizer.apply_gradients(grads_and_vars=zip(grads, variables))\n",
        "\n",
        "print(a, b)"
      ],
      "execution_count": null,
      "outputs": [
        {
          "output_type": "stream",
          "text": [
            "<tf.Variable 'Variable:0' shape=() dtype=float32, numpy=0.956224> <tf.Variable 'Variable:0' shape=() dtype=float32, numpy=0.045846466>\n"
          ],
          "name": "stdout"
        }
      ]
    },
    {
      "cell_type": "code",
      "metadata": {
        "id": "wXJ7u9bs1zxE",
        "colab_type": "code",
        "colab": {}
      },
      "source": [
        ""
      ],
      "execution_count": null,
      "outputs": []
    }
  ]
}