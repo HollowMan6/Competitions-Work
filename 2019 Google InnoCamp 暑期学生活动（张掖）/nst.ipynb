{
  "nbformat": 4,
  "nbformat_minor": 0,
  "metadata": {
    "colab": {
      "name": "nst.ipynb",
      "version": "0.3.2",
      "provenance": [],
      "private_outputs": true,
      "collapsed_sections": [],
      "toc_visible": true
    },
    "kernelspec": {
      "name": "python3",
      "display_name": "Python 3"
    },
    "accelerator": "GPU"
  },
  "cells": [
    {
      "cell_type": "markdown",
      "metadata": {
        "id": "MiBP4xUvTHp2",
        "colab_type": "text"
      },
      "source": [
        "# 神经网络风格迁移 ( 英语：Neural Style Transfer)\n",
        "\n",
        "<br></br>\n",
        "\n",
        " * [在 Google Colab 运行](https://colab.research.google.com/github/dslab-deepflying/deepflying/blob/colab/InnoCamp/NST/nst.ipynb)\n",
        " * [浏览 GitHub 源码 ](https://github.com/dslab-deepflying/deepflying/blob/colab/InnoCamp/NST/nst.ipynb)\n"
      ]
    },
    {
      "cell_type": "markdown",
      "metadata": {
        "id": "Al0RjQEaWgXr",
        "colab_type": "text"
      },
      "source": [
        "## 概述\n",
        "\n",
        "神经风格迁移是今年来深度学习在机器学习领域中相当成功的应用，它最初的想法来自这篇论文[ Leon A. Gatys' paper, A Neural Algorithm of Artistic Style](https://arxiv.org/abs/1508.06576)，它不仅改变了传统计算机视觉领域对图像分析的手动建模方式，还创造性的将图片的风格和内容直观的分别开来，便于生成各式各样有趣的图片。"
      ]
    },
    {
      "cell_type": "markdown",
      "metadata": {
        "id": "mpJP9UgcmWty",
        "colab_type": "text"
      },
      "source": [
        ""
      ]
    },
    {
      "cell_type": "markdown",
      "metadata": {
        "id": "Lko67H69X5kd",
        "colab_type": "text"
      },
      "source": [
        "## 环境搭建"
      ]
    },
    {
      "cell_type": "code",
      "metadata": {
        "id": "xIVhZMcUbsVY",
        "colab_type": "code",
        "colab": {}
      },
      "source": [
        "from __future__ import print_function\n",
        "from keras.preprocessing.image import load_img, save_img, img_to_array\n",
        "import numpy as np\n",
        "from scipy.optimize import fmin_l_bfgs_b\n",
        "import time\n",
        "import cv2\n",
        "\n",
        "import matplotlib.pyplot as plt\n",
        "%matplotlib inline\n",
        "\n",
        "from keras.applications import vgg19\n",
        "from keras import backend as K"
      ],
      "execution_count": 0,
      "outputs": []
    },
    {
      "cell_type": "markdown",
      "metadata": {
        "id": "L-BNgPoPX_dd",
        "colab_type": "text"
      },
      "source": [
        "### 所需包的导入\n",
        "\n",
        "<br>\n",
        "\n",
        "包（英文：package）是 python 中对一系列方法数据的封装，有面向对象编程（英文：Obect Oriented Coding，简称 OO）经验的同学来说并不陌生。对于没有OO基础的同学来说，包 可以简单的；理解为一种类似 “工具箱” 的概念。\n",
        "\n",
        "<br>\n",
        "\n",
        "我们本次实验使用的核心的包是[TensorFlow](https://www.tensorflow.org/?hl=zh_cn) ，谷歌公司的机器学习框架，也是当今世界上应用最广，发展最迅速的机器学习框架。[Keras](https://keras.io/zh/)是基于TensorFlow框架设计的高层抽象机器学习包。它使得我们能够略过数据操作中的张量操作以及计算图的编写运行等相对底层的操作，通过简单的 序贯模型 和 函数模型 快速搭建需要的机器学习模型。\n",
        "\n",
        "<br>\n",
        "\n",
        "其他包：<br>\n",
        "1）scipy ， python的算法库和数据工具包<br>\n",
        "2）numpy ，python的数据运算工具包<br>\n",
        "3）matplotlib ， python用于图像表格绘制的包<br>\n"
      ]
    },
    {
      "cell_type": "code",
      "metadata": {
        "id": "4MdxoKvDgsIA",
        "colab_type": "code",
        "colab": {}
      },
      "source": [
        "import os,sys\n",
        "\n",
        "if not os.path.exists('NST/data'):\n",
        "    os.makedirs('NST/data') \n",
        "    \n",
        "  \n",
        "!wget -q https://github.com/dslab-deepflying/deepflying/raw/colab/InnoCamp/NST/pics/pic.zip -O NST/data/pic.zip\n",
        "!unzip -o NST/data/pic.zip -d NST/data\n",
        "\n",
        "print(\"--- 内容图片 ---\")\n",
        "\n",
        "c1 = load_img(\"mp.jpg\")\n",
        "c1 = img_to_array(c1)\n",
        "c1 = np.array(c1, np.uint8)\n",
        "\n",
        "c2 = load_img(\"NST/data/c2.jpg\")\n",
        "c2 = img_to_array(c2)\n",
        "c2 = np.array(c2, np.uint8)\n",
        "\n",
        "c3 = load_img(\"NST/data/c3.jpg\")\n",
        "c3 = img_to_array(c3)\n",
        "c3 = np.array(c3, np.uint8)\n",
        "\n",
        "c4 = load_img(\"NST/data/c4.jpg\")\n",
        "c4 = img_to_array(c4)\n",
        "c4 = np.array(c4, np.uint8)\n",
        "\n",
        "\n",
        "plt.figure(figsize=(18, 12))\n",
        "\n",
        "plt.subplot(2, 3, 1), plt.title('model')\n",
        "plt.axis('off')\n",
        "plt.imshow(c1)\n",
        "\n",
        "plt.subplot(2, 3, 2), plt.title('chang-e')\n",
        "plt.axis('off')\n",
        "plt.imshow(c2)\n",
        "\n",
        "plt.subplot(2, 3, 3), plt.title('violin')\n",
        "plt.axis('off')\n",
        "plt.imshow(c3)\n",
        "\n",
        "plt.subplot(2, 3, 4), plt.title('deadpool')\n",
        "plt.axis('off')\n",
        "plt.imshow(c4)\n",
        "plt.show()\n",
        "\n",
        "\n",
        "print(\"--- 风格图片 ---\")\n",
        "\n",
        "s1 = load_img(\"1.jpg\")\n",
        "s1 = img_to_array(s1)\n",
        "s1 = np.array(s1, np.uint8)\n",
        "\n",
        "s2 = load_img(\"NST/data/s2.jpg\")\n",
        "s2 = img_to_array(s2)\n",
        "s2 = np.array(s2, np.uint8)\n",
        "\n",
        "s3 = load_img(\"NST/data/s3.jpg\")\n",
        "s3 = img_to_array(s3)\n",
        "s3 = np.array(s3, np.uint8)\n",
        "\n",
        "s4 = load_img(\"NST/data/s4.jpg\")\n",
        "s4 = img_to_array(s4)\n",
        "s4 = np.array(s4, np.uint8)\n",
        "\n",
        "\n",
        "plt.figure(figsize=(18, 12))\n",
        "\n",
        "plt.subplot(2, 3, 1), plt.title('PuSa')\n",
        "plt.axis('off')\n",
        "plt.imshow(s1)\n",
        "\n",
        "plt.subplot(2, 3, 2), plt.title('Bird')\n",
        "plt.axis('off')\n",
        "plt.imshow(s2)\n",
        "\n",
        "plt.subplot(2, 3, 3), plt.title('Art1')\n",
        "plt.axis('off')\n",
        "plt.imshow(s3)\n",
        "\n",
        "plt.subplot(2, 3, 4), plt.title('Art2')\n",
        "plt.axis('off')\n",
        "plt.imshow(s4)\n",
        "\n",
        "\n",
        "\n",
        "plt.show()"
      ],
      "execution_count": 0,
      "outputs": []
    },
    {
      "cell_type": "markdown",
      "metadata": {
        "id": "ZoVskRg9bzgV",
        "colab_type": "text"
      },
      "source": [
        "### 所需文件下载\n",
        "\n",
        "在这次实验中，我们用到三张（也可以说是三种）图片。\n",
        "\n",
        "1）内容图片，本次默认使用的为data/c1.png，是2017年巴黎时装周的一张图片。\n",
        "\n",
        "2）风格图片，本次默认使用的为data/s1.jpg，是敦煌某张壁画中的一小块。\n",
        "\n",
        "3）掩膜图片，本次默认使用的为data/m1.png，是内容图片中除服饰外的图片部分。用到的深度抠图（deepmatting）也是深度学习的一个分支。\n",
        "\n",
        "<br>\n",
        "\n",
        "以及VGG19神经网络，原用于物体识别。"
      ]
    },
    {
      "cell_type": "markdown",
      "metadata": {
        "id": "ZL1WUTh6k0-O",
        "colab_type": "text"
      },
      "source": [
        "## 代码编写\n",
        "\n",
        "接下来，我们还动手实现神经风格迁移。"
      ]
    },
    {
      "cell_type": "markdown",
      "metadata": {
        "id": "jm6-zSIRlDcs",
        "colab_type": "text"
      },
      "source": [
        "### 超参数设置以及变量配置\n",
        "\n",
        "超参数是决定整个AI模型训练结果的 全局参数。在开头设置方便大家随时调整观察不同的结果。"
      ]
    },
    {
      "cell_type": "markdown",
      "metadata": {
        "id": "Q2Gdn71blsKd",
        "colab_type": "text"
      },
      "source": [
        "### 图片预处理"
      ]
    },
    {
      "cell_type": "code",
      "metadata": {
        "id": "K3pKe6hrlIdM",
        "colab_type": "code",
        "colab": {}
      },
      "source": [
        "#@markdown <b>参数以及变量配置 <br><br>\n",
        "\n",
        "#@markdown 内容图片 （默认：女模特 ）：\n",
        "base_image_path = \"model\" #@param [\"model\",\"chang-e\",\"violin\",\"deadpool\"]\n",
        "\n",
        "#@markdown 风格图片 （默认：菩萨 ）：\n",
        "style_reference_image_path = \"PuSa\" #@param [\"PuSa\",\"Bird\",\"Art1\",\"Art2\"]\n",
        "\n",
        "if base_image_path == \"model\":\n",
        "  base_image_path = \"mp.jpg\"\n",
        "  mask_image_path = \"NST/data/noMask.jpg\"\n",
        "elif base_image_path == \"chang-e\":\n",
        "  base_image_path = \"NST/data/c2.jpg\"\n",
        "  mask_image_path = \"NST/data/m2.jpg\"\n",
        "elif base_image_path == \"violin\":\n",
        "  base_image_path = \"NST/data/c3.jpg\"\n",
        "  mask_image_path = \"NST/data/m3.jpg\"\n",
        "elif base_image_path == \"deadpool\":\n",
        "  base_image_path = \"NST/data/c4.jpg\"\n",
        "  mask_image_path = \"NST/data/m4.jpg\"\n",
        "  \n",
        "  \n",
        "if style_reference_image_path == \"PuSa\" : \n",
        "  style_reference_image_path = \"1.jpg\"\n",
        "elif style_reference_image_path == \"Bird\" : \n",
        "  style_reference_image_path = \"NST/data/s2.jpg\"\n",
        "elif style_reference_image_path == \"Art1\" : \n",
        "  style_reference_image_path = \"NST/data/s3.jpg\"\n",
        "elif style_reference_image_path == \"Art2\" : \n",
        "  style_reference_image_path = \"NST/data/s4.jpg\"\n",
        "\n",
        "result_prefix = \"combined\"\n",
        "\n",
        "\n",
        "#@markdown 迭代次数 ：\n",
        "iterations = 200 #@param {type:\"slider\", min:10, max:200, step:5}\n",
        "# these are the weights of the different loss components\n",
        "#@markdown 总异变权重：\n",
        "total_variation_weight = 0.01 #@param {type:\"slider\", min:0, max:0.08, step:0.01}\n",
        "#@markdown 风格权重：\n",
        "style_weight = 0.3 #@param {type:\"slider\", min:0.1, max:1.2, step:0.1}\n",
        "#@markdown 内容权重：\n",
        "content_weight = 0.7 #@param {type:\"slider\", min:0.1, max:1.2, step:0.1}\n",
        "# 保存图片的间隔数\n",
        "#@markdown 图片保存和显示间隔 （默认 5 ）：\n",
        "SAVE_INTERVAL = 5 #@param {type:\"slider\", min:0, max:2000, step:5}\n",
        "\n",
        "# dimensions of the generated picture.\n",
        "width, height = load_img(base_image_path).size\n",
        "\n",
        "#@markdown 图片缩放后的宽度 （默认 300 像素 ）：\n",
        "img_nrows = 300 #@param {type:\"slider\", min:100, max:400, step:50}\n",
        "img_ncols = int(width * img_nrows / height)\n",
        "\n",
        "\n",
        "\n",
        "\n",
        "  "
      ],
      "execution_count": 0,
      "outputs": []
    },
    {
      "cell_type": "code",
      "metadata": {
        "id": "6jMUyAkhlucz",
        "colab_type": "code",
        "colab": {}
      },
      "source": [
        "def preprocess_image(image_path):\n",
        "    img = load_img(image_path, target_size=(img_nrows, img_ncols))\n",
        "    img = img_to_array(img)\n",
        "    img = np.expand_dims(img, axis=0)\n",
        "    img = vgg19.preprocess_input(img)\n",
        "    return img\n",
        "\n",
        "# util function to convert a tensor into a valid image"
      ],
      "execution_count": 0,
      "outputs": []
    },
    {
      "cell_type": "markdown",
      "metadata": {
        "id": "FB6fBWSVlzmU",
        "colab_type": "text"
      },
      "source": [
        "### 图片解码"
      ]
    },
    {
      "cell_type": "code",
      "metadata": {
        "id": "SSuQIFuklyrk",
        "colab_type": "code",
        "colab": {}
      },
      "source": [
        "def deprocess_image(x):\n",
        "    if K.image_data_format() == 'channels_first':\n",
        "        x = x.reshape((3, img_nrows, img_ncols))\n",
        "        x = x.transpose((1, 2, 0))\n",
        "    else:\n",
        "        x = x.reshape((img_nrows, img_ncols, 3))\n",
        "    # Remove zero-center by mean pixel\n",
        "    x[:, :, 0] += 103.939\n",
        "    x[:, :, 1] += 116.779\n",
        "    x[:, :, 2] += 123.68\n",
        "    # 'BGR'->'RGB'\n",
        "    x = x[:, :, ::-1]\n",
        "    x = np.clip(x, 0, 255).astype('uint8')\n",
        "    return x\n",
        "\n",
        "# get tensor representations of our images"
      ],
      "execution_count": 0,
      "outputs": []
    },
    {
      "cell_type": "markdown",
      "metadata": {
        "id": "918ChvjEmU6c",
        "colab_type": "text"
      },
      "source": [
        "### 模型构建"
      ]
    },
    {
      "cell_type": "code",
      "metadata": {
        "id": "cNZpVAcfmT1N",
        "colab_type": "code",
        "colab": {}
      },
      "source": [
        "base_image = K.variable(preprocess_image(base_image_path))\n",
        "style_reference_image = K.variable(preprocess_image(style_reference_image_path))\n",
        "\n",
        "# this will contain our generated image\n",
        "if K.image_data_format() == 'channels_first':\n",
        "    combination_image = K.placeholder((1, 3, img_nrows, img_ncols))\n",
        "else:\n",
        "    combination_image = K.placeholder((1, img_nrows, img_ncols, 3))\n",
        "\n",
        "# combine the 3 images into a single Keras tensor\n",
        "input_tensor = K.concatenate([base_image,\n",
        "                              style_reference_image,\n",
        "                              combination_image], axis=0)\n",
        "\n",
        "# build the VGG19 network with our 3 images as input\n",
        "# the model will be loaded with pre-trained ImageNet weights\n",
        "model = vgg19.VGG19(input_tensor=input_tensor,\n",
        "                    weights='imagenet', include_top=False)\n",
        "print('Model loaded.')\n",
        "\n",
        "# get the symbolic outputs of each \"key\" layer (we gave them unique names).\n",
        "outputs_dict = dict([(layer.name, layer.output) for layer in model.layers])\n",
        "\n",
        "# compute the neural style loss\n",
        "# first we need to define 4 util functions\n",
        "\n",
        "# the gram matrix of an image tensor (feature-wise outer product)"
      ],
      "execution_count": 0,
      "outputs": []
    },
    {
      "cell_type": "markdown",
      "metadata": {
        "id": "9cp7q1Obmcyl",
        "colab_type": "text"
      },
      "source": [
        "### 定义gram矩阵"
      ]
    },
    {
      "cell_type": "code",
      "metadata": {
        "id": "Dn0Czk9Ymf8l",
        "colab_type": "code",
        "colab": {}
      },
      "source": [
        "def gram_matrix(x):\n",
        "    assert K.ndim(x) == 3\n",
        "    if K.image_data_format() == 'channels_first':\n",
        "        features = K.batch_flatten(x)\n",
        "    else:\n",
        "        features = K.batch_flatten(K.permute_dimensions(x, (2, 0, 1)))\n",
        "    gram = K.dot(features, K.transpose(features))\n",
        "    return gram"
      ],
      "execution_count": 0,
      "outputs": []
    },
    {
      "cell_type": "markdown",
      "metadata": {
        "id": "OPL-JkrYminO",
        "colab_type": "text"
      },
      "source": [
        "### 定义风格损失"
      ]
    },
    {
      "cell_type": "code",
      "metadata": {
        "id": "jo0J3Tx2mkf2",
        "colab_type": "code",
        "colab": {}
      },
      "source": [
        "def style_loss(style, combination):\n",
        "    assert K.ndim(style) == 3\n",
        "    assert K.ndim(combination) == 3\n",
        "    S = gram_matrix(style)\n",
        "    C = gram_matrix(combination)\n",
        "    channels = 3\n",
        "    size = img_nrows * img_ncols\n",
        "    return K.sum(K.square(S - C)) / (4.0 * (channels ** 2) * (size ** 2))"
      ],
      "execution_count": 0,
      "outputs": []
    },
    {
      "cell_type": "code",
      "metadata": {
        "id": "7qMmDtotuV-F",
        "colab_type": "code",
        "colab": {}
      },
      "source": [
        ""
      ],
      "execution_count": 0,
      "outputs": []
    },
    {
      "cell_type": "code",
      "metadata": {
        "id": "oFbA9crYxmGF",
        "colab_type": "code",
        "colab": {}
      },
      "source": [
        "!cat /usr/local/cuda/version.txt\n"
      ],
      "execution_count": 0,
      "outputs": []
    },
    {
      "cell_type": "markdown",
      "metadata": {
        "id": "fVIawmLImorF",
        "colab_type": "text"
      },
      "source": [
        "### 定义内容损失"
      ]
    },
    {
      "cell_type": "code",
      "metadata": {
        "id": "v05ZtZKCmn3d",
        "colab_type": "code",
        "colab": {}
      },
      "source": [
        "def content_loss(base, combination):\n",
        "    return K.sum(K.square(combination - base))"
      ],
      "execution_count": 0,
      "outputs": []
    },
    {
      "cell_type": "markdown",
      "metadata": {
        "id": "WRVlbcOImvll",
        "colab_type": "text"
      },
      "source": [
        "### 定义异变损失\n"
      ]
    },
    {
      "cell_type": "code",
      "metadata": {
        "id": "2WKiTjrzmyNN",
        "colab_type": "code",
        "colab": {}
      },
      "source": [
        "def total_variation_loss(x):\n",
        "    assert K.ndim(x) == 4\n",
        "    if K.image_data_format() == 'channels_first':\n",
        "        a = K.square(\n",
        "            x[:, :, :img_nrows - 1, :img_ncols - 1] - x[:, :, 1:, :img_ncols - 1])\n",
        "        b = K.square(\n",
        "            x[:, :, :img_nrows - 1, :img_ncols - 1] - x[:, :, :img_nrows - 1, 1:])\n",
        "    else:\n",
        "        a = K.square(\n",
        "            x[:, :img_nrows - 1, :img_ncols - 1, :] - x[:, 1:, :img_ncols - 1, :])\n",
        "        b = K.square(\n",
        "            x[:, :img_nrows - 1, :img_ncols - 1, :] - x[:, :img_nrows - 1, 1:, :])\n",
        "    return K.sum(K.pow(a + b, 1.25))"
      ],
      "execution_count": 0,
      "outputs": []
    },
    {
      "cell_type": "markdown",
      "metadata": {
        "id": "5gJo-pGKm5lW",
        "colab_type": "text"
      },
      "source": [
        "### 损失计算方法和模型层选定"
      ]
    },
    {
      "cell_type": "code",
      "metadata": {
        "id": "-wWywaOQnAWU",
        "colab_type": "code",
        "colab": {}
      },
      "source": [
        "loss = K.variable(0.0)\n",
        "layer_features = outputs_dict['block5_conv2']\n",
        "base_image_features = layer_features[0, :, :, :]\n",
        "combination_features = layer_features[2, :, :, :]\n",
        "loss += content_weight * content_loss(base_image_features,\n",
        "                                      combination_features)\n",
        "\n",
        "feature_layers = ['block1_conv1', 'block2_conv1',\n",
        "                  'block3_conv1', 'block4_conv1',\n",
        "                  'block5_conv1']\n",
        "for layer_name in feature_layers:\n",
        "    layer_features = outputs_dict[layer_name]\n",
        "    style_reference_features = layer_features[1, :, :, :]\n",
        "    combination_features = layer_features[2, :, :, :]\n",
        "    sl = style_loss(style_reference_features, combination_features)\n",
        "    loss += (style_weight / len(feature_layers)) * sl\n",
        "loss += total_variation_weight * total_variation_loss(combination_image)\n",
        "\n",
        "# get the gradients of the generated image wrt the loss\n",
        "grads = K.gradients(loss, combination_image)\n",
        "\n",
        "outputs = [loss]\n",
        "if isinstance(grads, (list, tuple)):\n",
        "    outputs += grads\n",
        "else:\n",
        "    outputs.append(grads)\n",
        "\n",
        "f_outputs = K.function([combination_image], outputs)"
      ],
      "execution_count": 0,
      "outputs": []
    },
    {
      "cell_type": "markdown",
      "metadata": {
        "id": "XUAEgUAcnFel",
        "colab_type": "text"
      },
      "source": [
        "### 定义梯度评价方法\n",
        "\n"
      ]
    },
    {
      "cell_type": "code",
      "metadata": {
        "id": "QizYC7nwnJwd",
        "colab_type": "code",
        "colab": {}
      },
      "source": [
        "def eval_loss_and_grads(x):\n",
        "    if K.image_data_format() == 'channels_first':\n",
        "        x = x.reshape((1, 3, img_nrows, img_ncols))\n",
        "    else:\n",
        "        x = x.reshape((1, img_nrows, img_ncols, 3))\n",
        "    outs = f_outputs([x])\n",
        "    loss_value = outs[0]\n",
        "    if len(outs[1:]) == 1:\n",
        "        grad_values = outs[1].flatten().astype('float64')\n",
        "    else:\n",
        "        grad_values = np.array(outs[1:]).flatten().astype('float64')\n",
        "    return loss_value, grad_values"
      ],
      "execution_count": 0,
      "outputs": []
    },
    {
      "cell_type": "markdown",
      "metadata": {
        "id": "UM7k_f_knOFM",
        "colab_type": "text"
      },
      "source": [
        "### 定义评价器"
      ]
    },
    {
      "cell_type": "code",
      "metadata": {
        "id": "baEVuSvSnQOc",
        "colab_type": "code",
        "colab": {}
      },
      "source": [
        "class Evaluator(object):\n",
        "\n",
        "    def __init__(self):\n",
        "        self.loss_value = None\n",
        "        self.grads_values = None\n",
        "\n",
        "    def loss(self, x):\n",
        "        assert self.loss_value is None\n",
        "        loss_value, grad_values = eval_loss_and_grads(x)\n",
        "        self.loss_value = loss_value\n",
        "        self.grad_values = grad_values\n",
        "        return self.loss_value\n",
        "\n",
        "    def grads(self, x):\n",
        "        assert self.loss_value is not None\n",
        "        grad_values = np.copy(self.grad_values)\n",
        "        self.loss_value = None\n",
        "        self.grad_values = None\n",
        "        return grad_values"
      ],
      "execution_count": 0,
      "outputs": []
    },
    {
      "cell_type": "markdown",
      "metadata": {
        "id": "ts3IvDSRnSr0",
        "colab_type": "text"
      },
      "source": [
        "## 开始训练"
      ]
    },
    {
      "cell_type": "code",
      "metadata": {
        "id": "DQJM1xwFnV0-",
        "colab_type": "code",
        "colab": {}
      },
      "source": [
        "def train():\n",
        "    evaluator = Evaluator()\n",
        "\n",
        "    # run scipy-based optimization (L-BFGS) over the pixels of the generated image\n",
        "    # so as to minimize the neural style loss\n",
        "    x = preprocess_image(base_image_path)\n",
        "\n",
        "    mask = load_img(mask_image_path, target_size=(img_nrows, img_ncols))\n",
        "    mask = img_to_array(mask)[:, :, 0]\n",
        "    mask = np.array(mask, np.uint8)\n",
        "\n",
        "    ori = load_img(base_image_path, target_size=(img_nrows, img_ncols))\n",
        "    ori = img_to_array(ori)\n",
        "    ori = np.array(ori, np.uint8)\n",
        "\n",
        "    sty = load_img(style_reference_image_path, target_size=(img_nrows, img_ncols))\n",
        "    sty = img_to_array(sty)\n",
        "    sty = np.array(sty, np.uint8)\n",
        "\n",
        "    plt.figure(figsize=(5, 6))\n",
        "    plt.subplot(2, 3, 1), plt.title('Content')\n",
        "    plt.axis('off')\n",
        "    plt.imshow(ori)\n",
        "    plt.subplot(2, 3, 2), plt.title('Style')\n",
        "    plt.axis('off')\n",
        "    plt.imshow(sty)\n",
        "    plt.show()\n",
        "\n",
        "    for i in range(iterations):\n",
        "        start_time = time.time()\n",
        "        x, min_val, info = fmin_l_bfgs_b(evaluator.loss, x.flatten(),\n",
        "                                         fprime=evaluator.grads, maxfun=20)\n",
        "        end_time = time.time()\n",
        "\n",
        "        if i % SAVE_INTERVAL == 0:\n",
        "            # save current generated image\n",
        "            img = deprocess_image(x.copy())\n",
        "            fname = result_prefix + '_at_iteration_%d.png' % i\n",
        "            \n",
        "            # end_time = time.time()\n",
        "\n",
        "            bac_mask = cv2.bitwise_not(mask)\n",
        "            bac_img = cv2.bitwise_and(ori, ori, mask=bac_mask)\n",
        "            masked_img = cv2.bitwise_and(img, img, mask=mask)\n",
        "            masked_img = cv2.add(bac_img, masked_img)\n",
        "            print('Image saved as', fname)\n",
        "            plt.imshow(masked_img)\n",
        "            save_img(fname, masked_img)\n",
        "            plt.show()\n",
        "\n",
        "        sys.stdout.write(\n",
        "            \"\\r Iteration %d [ loss: %f ] , time : %ds \" % (i, min_val, end_time - start_time))\n",
        "        sys.stdout.flush()\n",
        "\n",
        "    print(\" \\n\\rTranslation complete ! \\n\\r\")\n",
        "    plt.figure(figsize=(20, 24))\n",
        "    plt.subplot(4, 6, 1), plt.title('Origin')\n",
        "    plt.axis('off')\n",
        "    plt.imshow(ori)\n",
        "    plt.subplot(4, 6, 2), plt.title('NST')\n",
        "    plt.axis('off')\n",
        "    plt.imshow(masked_img)\n",
        "    plt.show()\n",
        "    \n",
        "train()"
      ],
      "execution_count": 0,
      "outputs": []
    }
  ]
}